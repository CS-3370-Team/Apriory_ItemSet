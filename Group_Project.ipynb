{
 "cells": [
  {
   "cell_type": "markdown",
   "id": "a15e59e0",
   "metadata": {},
   "source": [
    "# Data-Clean (Cuong's Session)"
   ]
  },
  {
   "cell_type": "markdown",
   "id": "4cfc0150",
   "metadata": {},
   "source": [
    "## Import CSV file "
   ]
  },
  {
   "cell_type": "code",
   "execution_count": 1,
   "id": "1ace7e25",
   "metadata": {},
   "outputs": [
    {
     "name": "stdout",
     "output_type": "stream",
     "text": [
      "36881\n",
      "<bound method NDFrame.head of          0     1     2     3      4      5      6      7      8     9   ...  \\\n",
      "0        39    48   130   147    475   2998   4792   5478   7146  7160  ...   \n",
      "1        32    48   NaN   NaN    NaN    NaN    NaN    NaN    NaN   NaN  ...   \n",
      "2        48    79   232   340    396    649    911   1016   1020  1172  ...   \n",
      "3        32    48    65   130    772    816   1344   3220   4445  6536  ...   \n",
      "4        39   175   421   806   1025   1629   2424   3151    NaN   NaN  ...   \n",
      "...     ...   ...   ...   ...    ...    ...    ...    ...    ...   ...  ...   \n",
      "36876    39   875  2665  2962  12959  14070  14406  15518  16379   NaN  ...   \n",
      "36877    39    41   101   346    393    413    479    522    586   635  ...   \n",
      "36878  2310  4267   NaN   NaN    NaN    NaN    NaN    NaN    NaN   NaN  ...   \n",
      "36879    39    48  2528   NaN    NaN    NaN    NaN    NaN    NaN   NaN  ...   \n",
      "36880    32    39   205   242   1393    NaN    NaN    NaN    NaN   NaN  ...   \n",
      "\n",
      "        66   67   68   69   70   71   72   73   74   75  \n",
      "0      NaN  NaN  NaN  NaN  NaN  NaN  NaN  NaN  NaN  NaN  \n",
      "1      NaN  NaN  NaN  NaN  NaN  NaN  NaN  NaN  NaN  NaN  \n",
      "2      NaN  NaN  NaN  NaN  NaN  NaN  NaN  NaN  NaN  NaN  \n",
      "3      NaN  NaN  NaN  NaN  NaN  NaN  NaN  NaN  NaN  NaN  \n",
      "4      NaN  NaN  NaN  NaN  NaN  NaN  NaN  NaN  NaN  NaN  \n",
      "...    ...  ...  ...  ...  ...  ...  ...  ...  ...  ...  \n",
      "36876  NaN  NaN  NaN  NaN  NaN  NaN  NaN  NaN  NaN  NaN  \n",
      "36877  NaN  NaN  NaN  NaN  NaN  NaN  NaN  NaN  NaN  NaN  \n",
      "36878  NaN  NaN  NaN  NaN  NaN  NaN  NaN  NaN  NaN  NaN  \n",
      "36879  NaN  NaN  NaN  NaN  NaN  NaN  NaN  NaN  NaN  NaN  \n",
      "36880  NaN  NaN  NaN  NaN  NaN  NaN  NaN  NaN  NaN  NaN  \n",
      "\n",
      "[36881 rows x 76 columns]>\n"
     ]
    }
   ],
   "source": [
    "import pandas as pd\n",
    "import numpy as np\n",
    "import math\n",
    "\n",
    "test_pd = pd.read_csv('SuperCenterDataNew.csv', header=None, dtype=str)\n",
    "# add dtype to prevent float\n",
    "test_pd.head()\n",
    "print(len(test_pd))\n",
    "print (test_pd.head)"
   ]
  },
  {
   "cell_type": "markdown",
   "id": "047e3a55",
   "metadata": {},
   "source": [
    "## check whether the dataframe has empty rows or not "
   ]
  },
  {
   "cell_type": "code",
   "execution_count": 2,
   "id": "36157ca5-d99a-4092-b680-a06b36ae6dfe",
   "metadata": {},
   "outputs": [
    {
     "name": "stdout",
     "output_type": "stream",
     "text": [
      "✅ No empty lines.\n"
     ]
    },
    {
     "data": {
      "text/html": [
       "<div>\n",
       "<style scoped>\n",
       "    .dataframe tbody tr th:only-of-type {\n",
       "        vertical-align: middle;\n",
       "    }\n",
       "\n",
       "    .dataframe tbody tr th {\n",
       "        vertical-align: top;\n",
       "    }\n",
       "\n",
       "    .dataframe thead th {\n",
       "        text-align: right;\n",
       "    }\n",
       "</style>\n",
       "<table border=\"1\" class=\"dataframe\">\n",
       "  <thead>\n",
       "    <tr style=\"text-align: right;\">\n",
       "      <th></th>\n",
       "      <th>0</th>\n",
       "      <th>1</th>\n",
       "      <th>2</th>\n",
       "      <th>3</th>\n",
       "      <th>4</th>\n",
       "      <th>5</th>\n",
       "      <th>6</th>\n",
       "      <th>7</th>\n",
       "      <th>8</th>\n",
       "      <th>9</th>\n",
       "      <th>...</th>\n",
       "      <th>66</th>\n",
       "      <th>67</th>\n",
       "      <th>68</th>\n",
       "      <th>69</th>\n",
       "      <th>70</th>\n",
       "      <th>71</th>\n",
       "      <th>72</th>\n",
       "      <th>73</th>\n",
       "      <th>74</th>\n",
       "      <th>75</th>\n",
       "    </tr>\n",
       "  </thead>\n",
       "  <tbody>\n",
       "  </tbody>\n",
       "</table>\n",
       "<p>0 rows × 76 columns</p>\n",
       "</div>"
      ],
      "text/plain": [
       "Empty DataFrame\n",
       "Columns: [0, 1, 2, 3, 4, 5, 6, 7, 8, 9, 10, 11, 12, 13, 14, 15, 16, 17, 18, 19, 20, 21, 22, 23, 24, 25, 26, 27, 28, 29, 30, 31, 32, 33, 34, 35, 36, 37, 38, 39, 40, 41, 42, 43, 44, 45, 46, 47, 48, 49, 50, 51, 52, 53, 54, 55, 56, 57, 58, 59, 60, 61, 62, 63, 64, 65, 66, 67, 68, 69, 70, 71, 72, 73, 74, 75]\n",
       "Index: []\n",
       "\n",
       "[0 rows x 76 columns]"
      ]
     },
     "execution_count": 2,
     "metadata": {},
     "output_type": "execute_result"
    }
   ],
   "source": [
    "def check_blank_rows(df):\n",
    "    # find rows that all cells are empty or Nan\n",
    "    blank_rows = df[df.apply(lambda row: row.isnull().all() or (row.astype(str).str.strip() == '').all(), axis=1)]\n",
    "    \n",
    "    if blank_rows.empty:\n",
    "        print(\"✅ No empty lines.\")\n",
    "    else:\n",
    "        print(f\"⚠️ Found {len(blank_rows)} empty rows\")\n",
    "        print(blank_rows)\n",
    "\n",
    "    return blank_rows\n",
    "\n",
    "check_blank_rows(test_pd)"
   ]
  },
  {
   "cell_type": "markdown",
   "id": "3a09e4db",
   "metadata": {},
   "source": [
    "## Change the format of dataset from pandas.dataframe to pandas.Series"
   ]
  },
  {
   "cell_type": "code",
   "execution_count": 3,
   "id": "6ee49d94",
   "metadata": {},
   "outputs": [
    {
     "name": "stdout",
     "output_type": "stream",
     "text": [
      "0        [39, 48, 130, 147, 475, 2998, 4792, 5478, 7146...\n",
      "1                                                 [32, 48]\n",
      "2        [48, 79, 232, 340, 396, 649, 911, 1016, 1020, ...\n",
      "3        [32, 48, 65, 130, 772, 816, 1344, 3220, 4445, ...\n",
      "4              [39, 175, 421, 806, 1025, 1629, 2424, 3151]\n",
      "                               ...                        \n",
      "36876    [39, 875, 2665, 2962, 12959, 14070, 14406, 155...\n",
      "36877    [39, 41, 101, 346, 393, 413, 479, 522, 586, 63...\n",
      "36878                                         [2310, 4267]\n",
      "36879                                       [39, 48, 2528]\n",
      "36880                             [32, 39, 205, 242, 1393]\n",
      "Length: 36881, dtype: object\n",
      "<class 'pandas.core.series.Series'>\n"
     ]
    }
   ],
   "source": [
    "def is_not_nan(x):\n",
    "    return x is not None and not (isinstance(x, float) and math.isnan(x))\n",
    "\n",
    "def merge_and_clean(df):\n",
    "    # Combine all the value into list, remove NaN cells\n",
    "    def row_to_clean_list(row):\n",
    "        # row là 1 Series\n",
    "        items = []\n",
    "        for cell in row:\n",
    "            if isinstance(cell, list):\n",
    "                items.extend([v for v in cell if is_not_nan(v)])\n",
    "            elif is_not_nan(cell):\n",
    "                items.append(int(cell))\n",
    "        return items\n",
    "\n",
    "    # Apply for each line\n",
    "    return df.apply(row_to_clean_list, axis=1)\n",
    "\n",
    "cleaned = merge_and_clean(test_pd)\n",
    "\n",
    "# Print result\n",
    "print(cleaned)\n",
    "print(type(cleaned))"
   ]
  },
  {
   "cell_type": "code",
   "execution_count": 4,
   "id": "bdb182f4",
   "metadata": {},
   "outputs": [
    {
     "name": "stdout",
     "output_type": "stream",
     "text": [
      "✅ All elements are lists with integer particles\n"
     ]
    },
    {
     "data": {
      "text/plain": [
       "Series([], dtype: object)"
      ]
     },
     "execution_count": 4,
     "metadata": {},
     "output_type": "execute_result"
    }
   ],
   "source": [
    "def check_all_integers_series(series):\n",
    "    # function to test integer in the list\n",
    "    def is_all_int(item_list):\n",
    "        if not isinstance(item_list, list):\n",
    "            return False\n",
    "        return all(isinstance(x, int) for x in item_list)\n",
    "\n",
    "    # apply test\n",
    "    invalid_rows = series[~series.apply(is_all_int)]\n",
    "\n",
    "    if invalid_rows.empty:\n",
    "        print(\"✅ All elements are lists with integer particles\")\n",
    "    else:\n",
    "        print(f\"⚠️ Found {len(invalid_rows)} invalid particles\")\n",
    "        print(invalid_rows)\n",
    "\n",
    "    return invalid_rows\n",
    "\n",
    "check_all_integers_series(cleaned)"
   ]
  },
  {
   "cell_type": "markdown",
   "id": "4c4341c4",
   "metadata": {},
   "source": [
    "### Check duplicate particles in the list of each cart "
   ]
  },
  {
   "cell_type": "code",
   "execution_count": 5,
   "id": "da43a5d4",
   "metadata": {},
   "outputs": [
    {
     "name": "stdout",
     "output_type": "stream",
     "text": [
      "✅ No duplicated row found.\n"
     ]
    },
    {
     "data": {
      "text/plain": [
       "Series([], dtype: object)"
      ]
     },
     "execution_count": 5,
     "metadata": {},
     "output_type": "execute_result"
    }
   ],
   "source": [
    "def check_duplicate_elements_in_series(series):\n",
    "    # Return True if the list : lst contain duplication\n",
    "    def has_duplicates(lst):\n",
    "        if not isinstance(lst, list):\n",
    "            return False\n",
    "        return len(lst) != len(set(lst))  # If exist duplication: len(set()) < len(lst)\n",
    "\n",
    "    # Apply the check for each row\n",
    "    duplicated_rows = series[series.apply(has_duplicates)]\n",
    "\n",
    "    if duplicated_rows.empty:\n",
    "        print(\"✅ No duplicated row found.\")\n",
    "    else:\n",
    "        print(f\"⚠️ Found {len(duplicated_rows)} list exist duplication:\")\n",
    "        print(duplicated_rows)\n",
    "\n",
    "    return duplicated_rows\n",
    "\n",
    "\n",
    "check_duplicate_elements_in_series(cleaned)"
   ]
  },
  {
   "cell_type": "markdown",
   "id": "5822dea2",
   "metadata": {},
   "source": [
    "## Function to check distribution (existence of item in each cart)"
   ]
  },
  {
   "cell_type": "code",
   "execution_count": 6,
   "id": "03a6986a",
   "metadata": {},
   "outputs": [
    {
     "name": "stdout",
     "output_type": "stream",
     "text": [
      "39       21381\n",
      "48       17930\n",
      "38        6495\n",
      "32        6267\n",
      "41        4391\n",
      "         ...  \n",
      "15753        1\n",
      "14512        1\n",
      "6240         1\n",
      "4533         1\n",
      "16469        1\n",
      "Name: count, Length: 11799, dtype: int64\n"
     ]
    }
   ],
   "source": [
    "distribution = cleaned.explode().value_counts()\n",
    "\n",
    "print(distribution)\n",
    "top_100 = distribution.head(100)"
   ]
  },
  {
   "cell_type": "code",
   "execution_count": 7,
   "id": "951413fd",
   "metadata": {},
   "outputs": [
    {
     "ename": "ImportError",
     "evalue": "dlopen(/opt/homebrew/Caskroom/miniconda/base/lib/python3.12/site-packages/PIL/_imaging.cpython-312-darwin.so, 0x0002): Library not loaded: @rpath/libtiff.5.dylib\n  Referenced from: <DF451369-A6F9-31F9-B9A7-AEA1B609BC68> /opt/homebrew/Caskroom/miniconda/base/lib/python3.12/site-packages/PIL/_imaging.cpython-312-darwin.so\n  Reason: tried: '/opt/homebrew/Caskroom/miniconda/base/lib/python3.12/site-packages/PIL/../../../libtiff.5.dylib' (no such file), '/opt/homebrew/Caskroom/miniconda/base/lib/python3.12/site-packages/PIL/../../../libtiff.5.dylib' (no such file), '/opt/homebrew/Caskroom/miniconda/base/bin/../lib/libtiff.5.dylib' (no such file), '/opt/homebrew/Caskroom/miniconda/base/bin/../lib/libtiff.5.dylib' (no such file), '/usr/local/lib/libtiff.5.dylib' (no such file), '/usr/lib/libtiff.5.dylib' (no such file, not in dyld cache)",
     "output_type": "error",
     "traceback": [
      "\u001b[31m---------------------------------------------------------------------------\u001b[39m",
      "\u001b[31mImportError\u001b[39m                               Traceback (most recent call last)",
      "\u001b[36mCell\u001b[39m\u001b[36m \u001b[39m\u001b[32mIn[7]\u001b[39m\u001b[32m, line 1\u001b[39m\n\u001b[32m----> \u001b[39m\u001b[32m1\u001b[39m \u001b[38;5;28;01mimport\u001b[39;00m \u001b[34;01mmatplotlib\u001b[39;00m\u001b[34;01m.\u001b[39;00m\u001b[34;01mpyplot\u001b[39;00m \u001b[38;5;28;01mas\u001b[39;00m \u001b[34;01mplt\u001b[39;00m\n\u001b[32m      2\u001b[39m \u001b[38;5;28;01mimport\u001b[39;00m \u001b[34;01mseaborn\u001b[39;00m \u001b[38;5;28;01mas\u001b[39;00m \u001b[34;01msns\u001b[39;00m\n\u001b[32m      4\u001b[39m plt.figure(figsize=(\u001b[32m15\u001b[39m, \u001b[32m6\u001b[39m))\n",
      "\u001b[36mFile \u001b[39m\u001b[32m/opt/homebrew/Caskroom/miniconda/base/lib/python3.12/site-packages/matplotlib/__init__.py:161\u001b[39m\n\u001b[32m    157\u001b[39m \u001b[38;5;28;01mfrom\u001b[39;00m \u001b[34;01mpackaging\u001b[39;00m\u001b[34;01m.\u001b[39;00m\u001b[34;01mversion\u001b[39;00m \u001b[38;5;28;01mimport\u001b[39;00m parse \u001b[38;5;28;01mas\u001b[39;00m parse_version\n\u001b[32m    159\u001b[39m \u001b[38;5;66;03m# cbook must import matplotlib only within function\u001b[39;00m\n\u001b[32m    160\u001b[39m \u001b[38;5;66;03m# definitions, so it is safe to import from it here.\u001b[39;00m\n\u001b[32m--> \u001b[39m\u001b[32m161\u001b[39m \u001b[38;5;28;01mfrom\u001b[39;00m \u001b[34;01m.\u001b[39;00m \u001b[38;5;28;01mimport\u001b[39;00m _api, _version, cbook, _docstring, rcsetup\n\u001b[32m    162\u001b[39m \u001b[38;5;28;01mfrom\u001b[39;00m \u001b[34;01mmatplotlib\u001b[39;00m\u001b[34;01m.\u001b[39;00m\u001b[34;01m_api\u001b[39;00m \u001b[38;5;28;01mimport\u001b[39;00m MatplotlibDeprecationWarning\n\u001b[32m    163\u001b[39m \u001b[38;5;28;01mfrom\u001b[39;00m \u001b[34;01mmatplotlib\u001b[39;00m\u001b[34;01m.\u001b[39;00m\u001b[34;01mrcsetup\u001b[39;00m \u001b[38;5;28;01mimport\u001b[39;00m cycler  \u001b[38;5;66;03m# noqa: F401\u001b[39;00m\n",
      "\u001b[36mFile \u001b[39m\u001b[32m/opt/homebrew/Caskroom/miniconda/base/lib/python3.12/site-packages/matplotlib/rcsetup.py:28\u001b[39m\n\u001b[32m     26\u001b[39m \u001b[38;5;28;01mfrom\u001b[39;00m \u001b[34;01mmatplotlib\u001b[39;00m\u001b[34;01m.\u001b[39;00m\u001b[34;01mbackends\u001b[39;00m \u001b[38;5;28;01mimport\u001b[39;00m BackendFilter, backend_registry\n\u001b[32m     27\u001b[39m \u001b[38;5;28;01mfrom\u001b[39;00m \u001b[34;01mmatplotlib\u001b[39;00m\u001b[34;01m.\u001b[39;00m\u001b[34;01mcbook\u001b[39;00m \u001b[38;5;28;01mimport\u001b[39;00m ls_mapper\n\u001b[32m---> \u001b[39m\u001b[32m28\u001b[39m \u001b[38;5;28;01mfrom\u001b[39;00m \u001b[34;01mmatplotlib\u001b[39;00m\u001b[34;01m.\u001b[39;00m\u001b[34;01mcolors\u001b[39;00m \u001b[38;5;28;01mimport\u001b[39;00m Colormap, is_color_like\n\u001b[32m     29\u001b[39m \u001b[38;5;28;01mfrom\u001b[39;00m \u001b[34;01mmatplotlib\u001b[39;00m\u001b[34;01m.\u001b[39;00m\u001b[34;01m_fontconfig_pattern\u001b[39;00m \u001b[38;5;28;01mimport\u001b[39;00m parse_fontconfig_pattern\n\u001b[32m     30\u001b[39m \u001b[38;5;28;01mfrom\u001b[39;00m \u001b[34;01mmatplotlib\u001b[39;00m\u001b[34;01m.\u001b[39;00m\u001b[34;01m_enums\u001b[39;00m \u001b[38;5;28;01mimport\u001b[39;00m JoinStyle, CapStyle\n",
      "\u001b[36mFile \u001b[39m\u001b[32m/opt/homebrew/Caskroom/miniconda/base/lib/python3.12/site-packages/matplotlib/colors.py:52\u001b[39m\n\u001b[32m     49\u001b[39m \u001b[38;5;28;01mfrom\u001b[39;00m \u001b[34;01mnumbers\u001b[39;00m \u001b[38;5;28;01mimport\u001b[39;00m Real\n\u001b[32m     50\u001b[39m \u001b[38;5;28;01mimport\u001b[39;00m \u001b[34;01mre\u001b[39;00m\n\u001b[32m---> \u001b[39m\u001b[32m52\u001b[39m \u001b[38;5;28;01mfrom\u001b[39;00m \u001b[34;01mPIL\u001b[39;00m \u001b[38;5;28;01mimport\u001b[39;00m Image\n\u001b[32m     53\u001b[39m \u001b[38;5;28;01mfrom\u001b[39;00m \u001b[34;01mPIL\u001b[39;00m\u001b[34;01m.\u001b[39;00m\u001b[34;01mPngImagePlugin\u001b[39;00m \u001b[38;5;28;01mimport\u001b[39;00m PngInfo\n\u001b[32m     55\u001b[39m \u001b[38;5;28;01mimport\u001b[39;00m \u001b[34;01mmatplotlib\u001b[39;00m \u001b[38;5;28;01mas\u001b[39;00m \u001b[34;01mmpl\u001b[39;00m\n",
      "\u001b[36mFile \u001b[39m\u001b[32m/opt/homebrew/Caskroom/miniconda/base/lib/python3.12/site-packages/PIL/Image.py:97\u001b[39m\n\u001b[32m     88\u001b[39m MAX_IMAGE_PIXELS: \u001b[38;5;28mint\u001b[39m | \u001b[38;5;28;01mNone\u001b[39;00m = \u001b[38;5;28mint\u001b[39m(\u001b[32m1024\u001b[39m * \u001b[32m1024\u001b[39m * \u001b[32m1024\u001b[39m // \u001b[32m4\u001b[39m // \u001b[32m3\u001b[39m)\n\u001b[32m     91\u001b[39m \u001b[38;5;28;01mtry\u001b[39;00m:\n\u001b[32m     92\u001b[39m     \u001b[38;5;66;03m# If the _imaging C module is not present, Pillow will not load.\u001b[39;00m\n\u001b[32m     93\u001b[39m     \u001b[38;5;66;03m# Note that other modules should not refer to _imaging directly;\u001b[39;00m\n\u001b[32m     94\u001b[39m     \u001b[38;5;66;03m# import Image and use the Image.core variable instead.\u001b[39;00m\n\u001b[32m     95\u001b[39m     \u001b[38;5;66;03m# Also note that Image.core is not a publicly documented interface,\u001b[39;00m\n\u001b[32m     96\u001b[39m     \u001b[38;5;66;03m# and should be considered private and subject to change.\u001b[39;00m\n\u001b[32m---> \u001b[39m\u001b[32m97\u001b[39m     \u001b[38;5;28;01mfrom\u001b[39;00m \u001b[34;01m.\u001b[39;00m \u001b[38;5;28;01mimport\u001b[39;00m _imaging \u001b[38;5;28;01mas\u001b[39;00m core\n\u001b[32m     99\u001b[39m     \u001b[38;5;28;01mif\u001b[39;00m __version__ != \u001b[38;5;28mgetattr\u001b[39m(core, \u001b[33m\"\u001b[39m\u001b[33mPILLOW_VERSION\u001b[39m\u001b[33m\"\u001b[39m, \u001b[38;5;28;01mNone\u001b[39;00m):\n\u001b[32m    100\u001b[39m         msg = (\n\u001b[32m    101\u001b[39m             \u001b[33m\"\u001b[39m\u001b[33mThe _imaging extension was built for another version of Pillow or PIL:\u001b[39m\u001b[38;5;130;01m\\n\u001b[39;00m\u001b[33m\"\u001b[39m\n\u001b[32m    102\u001b[39m             \u001b[33mf\u001b[39m\u001b[33m\"\u001b[39m\u001b[33mCore version: \u001b[39m\u001b[38;5;132;01m{\u001b[39;00m\u001b[38;5;28mgetattr\u001b[39m(core,\u001b[38;5;250m \u001b[39m\u001b[33m'\u001b[39m\u001b[33mPILLOW_VERSION\u001b[39m\u001b[33m'\u001b[39m,\u001b[38;5;250m \u001b[39m\u001b[38;5;28;01mNone\u001b[39;00m)\u001b[38;5;132;01m}\u001b[39;00m\u001b[38;5;130;01m\\n\u001b[39;00m\u001b[33m\"\u001b[39m\n\u001b[32m    103\u001b[39m             \u001b[33mf\u001b[39m\u001b[33m\"\u001b[39m\u001b[33mPillow version: \u001b[39m\u001b[38;5;132;01m{\u001b[39;00m__version__\u001b[38;5;132;01m}\u001b[39;00m\u001b[33m\"\u001b[39m\n\u001b[32m    104\u001b[39m         )\n",
      "\u001b[31mImportError\u001b[39m: dlopen(/opt/homebrew/Caskroom/miniconda/base/lib/python3.12/site-packages/PIL/_imaging.cpython-312-darwin.so, 0x0002): Library not loaded: @rpath/libtiff.5.dylib\n  Referenced from: <DF451369-A6F9-31F9-B9A7-AEA1B609BC68> /opt/homebrew/Caskroom/miniconda/base/lib/python3.12/site-packages/PIL/_imaging.cpython-312-darwin.so\n  Reason: tried: '/opt/homebrew/Caskroom/miniconda/base/lib/python3.12/site-packages/PIL/../../../libtiff.5.dylib' (no such file), '/opt/homebrew/Caskroom/miniconda/base/lib/python3.12/site-packages/PIL/../../../libtiff.5.dylib' (no such file), '/opt/homebrew/Caskroom/miniconda/base/bin/../lib/libtiff.5.dylib' (no such file), '/opt/homebrew/Caskroom/miniconda/base/bin/../lib/libtiff.5.dylib' (no such file), '/usr/local/lib/libtiff.5.dylib' (no such file), '/usr/lib/libtiff.5.dylib' (no such file, not in dyld cache)"
     ]
    }
   ],
   "source": [
    "import matplotlib.pyplot as plt\n",
    "import seaborn as sns\n",
    "\n",
    "plt.figure(figsize=(15, 6))\n",
    "sns.barplot(x=top_100.index, y=top_100.values, color='skyblue')\n",
    "\n",
    "plt.title('Top 100 Most Frequent Items')\n",
    "plt.xlabel('Item')\n",
    "plt.ylabel('Frequency')\n",
    "plt.xticks(rotation=90)\n",
    "\n",
    "plt.tight_layout()\n",
    "plt.show()"
   ]
  },
  {
   "cell_type": "code",
   "execution_count": 8,
   "id": "3a0e921d-73dc-4f45-aa49-03efc08fd04c",
   "metadata": {},
   "outputs": [
    {
     "name": "stdout",
     "output_type": "stream",
     "text": [
      "0        [39, 48, 130, 147, 475, 2998, 4792, 5478, 7146...\n",
      "1                                                 [32, 48]\n",
      "2        [48, 79, 232, 340, 396, 649, 911, 1016, 1020, ...\n",
      "3        [32, 48, 65, 130, 772, 816, 1344, 3220, 4445, ...\n",
      "4              [39, 175, 421, 806, 1025, 1629, 2424, 3151]\n",
      "                               ...                        \n",
      "36876    [39, 875, 2665, 2962, 12959, 14070, 14406, 155...\n",
      "36877    [39, 41, 101, 346, 393, 413, 479, 522, 586, 63...\n",
      "36878                                         [2310, 4267]\n",
      "36879                                       [39, 48, 2528]\n",
      "36880                             [32, 39, 205, 242, 1393]\n",
      "Length: 36881, dtype: object\n"
     ]
    },
    {
     "data": {
      "text/html": [
       "<div>\n",
       "<style scoped>\n",
       "    .dataframe tbody tr th:only-of-type {\n",
       "        vertical-align: middle;\n",
       "    }\n",
       "\n",
       "    .dataframe tbody tr th {\n",
       "        vertical-align: top;\n",
       "    }\n",
       "\n",
       "    .dataframe thead th {\n",
       "        text-align: right;\n",
       "    }\n",
       "</style>\n",
       "<table border=\"1\" class=\"dataframe\">\n",
       "  <thead>\n",
       "    <tr style=\"text-align: right;\">\n",
       "      <th></th>\n",
       "      <th>transaction_id</th>\n",
       "      <th>item</th>\n",
       "    </tr>\n",
       "  </thead>\n",
       "  <tbody>\n",
       "    <tr>\n",
       "      <th>0</th>\n",
       "      <td>0</td>\n",
       "      <td>[39, 48, 130, 147, 475, 2998, 4792, 5478, 7146...</td>\n",
       "    </tr>\n",
       "    <tr>\n",
       "      <th>1</th>\n",
       "      <td>1</td>\n",
       "      <td>[32, 48]</td>\n",
       "    </tr>\n",
       "    <tr>\n",
       "      <th>2</th>\n",
       "      <td>2</td>\n",
       "      <td>[48, 79, 232, 340, 396, 649, 911, 1016, 1020, ...</td>\n",
       "    </tr>\n",
       "    <tr>\n",
       "      <th>3</th>\n",
       "      <td>3</td>\n",
       "      <td>[32, 48, 65, 130, 772, 816, 1344, 3220, 4445, ...</td>\n",
       "    </tr>\n",
       "    <tr>\n",
       "      <th>4</th>\n",
       "      <td>4</td>\n",
       "      <td>[39, 175, 421, 806, 1025, 1629, 2424, 3151]</td>\n",
       "    </tr>\n",
       "    <tr>\n",
       "      <th>...</th>\n",
       "      <td>...</td>\n",
       "      <td>...</td>\n",
       "    </tr>\n",
       "    <tr>\n",
       "      <th>36876</th>\n",
       "      <td>36876</td>\n",
       "      <td>[39, 875, 2665, 2962, 12959, 14070, 14406, 155...</td>\n",
       "    </tr>\n",
       "    <tr>\n",
       "      <th>36877</th>\n",
       "      <td>36877</td>\n",
       "      <td>[39, 41, 101, 346, 393, 413, 479, 522, 586, 63...</td>\n",
       "    </tr>\n",
       "    <tr>\n",
       "      <th>36878</th>\n",
       "      <td>36878</td>\n",
       "      <td>[2310, 4267]</td>\n",
       "    </tr>\n",
       "    <tr>\n",
       "      <th>36879</th>\n",
       "      <td>36879</td>\n",
       "      <td>[39, 48, 2528]</td>\n",
       "    </tr>\n",
       "    <tr>\n",
       "      <th>36880</th>\n",
       "      <td>36880</td>\n",
       "      <td>[32, 39, 205, 242, 1393]</td>\n",
       "    </tr>\n",
       "  </tbody>\n",
       "</table>\n",
       "<p>36881 rows × 2 columns</p>\n",
       "</div>"
      ],
      "text/plain": [
       "       transaction_id                                               item\n",
       "0                   0  [39, 48, 130, 147, 475, 2998, 4792, 5478, 7146...\n",
       "1                   1                                           [32, 48]\n",
       "2                   2  [48, 79, 232, 340, 396, 649, 911, 1016, 1020, ...\n",
       "3                   3  [32, 48, 65, 130, 772, 816, 1344, 3220, 4445, ...\n",
       "4                   4        [39, 175, 421, 806, 1025, 1629, 2424, 3151]\n",
       "...               ...                                                ...\n",
       "36876           36876  [39, 875, 2665, 2962, 12959, 14070, 14406, 155...\n",
       "36877           36877  [39, 41, 101, 346, 393, 413, 479, 522, 586, 63...\n",
       "36878           36878                                       [2310, 4267]\n",
       "36879           36879                                     [39, 48, 2528]\n",
       "36880           36880                           [32, 39, 205, 242, 1393]\n",
       "\n",
       "[36881 rows x 2 columns]"
      ]
     },
     "execution_count": 8,
     "metadata": {},
     "output_type": "execute_result"
    }
   ],
   "source": [
    "import pandas as pd\n",
    "print(cleaned)\n",
    "cleaned_df = pd.DataFrame({'transaction_id': cleaned.index, \n",
    "                          'item': cleaned.values}) # Convert the data cleaned from Series -> familiar pandas format\n",
    "cleaned_df\n"
   ]
  },
  {
   "cell_type": "markdown",
   "id": "46c7230a",
   "metadata": {},
   "source": [
    "# Apriori's Algorithm Implementation\n",
    "- The Clean Data was storing in `cleaned_df` variable - it's better for you to have the back-up of stored cleaned csv file of this dataframe obj"
   ]
  },
  {
   "cell_type": "markdown",
   "id": "ccbde813",
   "metadata": {},
   "source": [
    "## Cuong's Session (TROY-ID NUMBER)"
   ]
  },
  {
   "cell_type": "code",
   "execution_count": null,
   "id": "ff2b7bca",
   "metadata": {},
   "outputs": [],
   "source": [
    "\"\"\"\n",
    "Commentarty Section (Necessary)\n",
    "\n",
    "Provide a brief commentary describing what your code is intended to implement. Focus on the main logic or algorithm behind it. You may include a high-level overview or pseudocode to outline the steps. This helps clarify your thought process before writing the actual code.\n",
    "\n",
    "Example:\n",
    "\n",
    "    This function sorts a list using the Bubble Sort algorithm. It repeatedly steps through the list, compares adjacent items, and swaps them if they’re in the wrong order.\n",
    "    \n",
    "    Pseudocode:\n",
    "    for i from 0 to n:\n",
    "        for j from 0 to n-i-1:\n",
    "            if arr[j] > arr[j+1]:\n",
    "                swap(arr[j], arr[j+1])\n",
    "\n",
    "\"\"\""
   ]
  },
  {
   "cell_type": "markdown",
   "id": "ee77d230",
   "metadata": {},
   "source": [
    "## An's Session (TROY-ID NUMBER)"
   ]
  },
  {
   "cell_type": "code",
   "execution_count": null,
   "id": "45797b96",
   "metadata": {},
   "outputs": [],
   "source": [
    "\"\"\"\n",
    "Commentarty Section (Necessary)\n",
    "\n",
    "Provide a brief commentary describing what your code is intended to implement. Focus on the main logic or algorithm behind it. You may include a high-level overview or pseudocode to outline the steps. This helps clarify your thought process before writing the actual code.\n",
    "\n",
    "Example:\n",
    "\n",
    "    This function sorts a list using the Bubble Sort algorithm. It repeatedly steps through the list, compares adjacent items, and swaps them if they’re in the wrong order.\n",
    "    \n",
    "    Pseudocode:\n",
    "    for i from 0 to n:\n",
    "        for j from 0 to n-i-1:\n",
    "            if arr[j] > arr[j+1]:\n",
    "                swap(arr[j], arr[j+1])\n",
    "\n",
    "\"\"\""
   ]
  },
  {
   "cell_type": "markdown",
   "id": "08a0db20",
   "metadata": {},
   "source": [
    "## Dung's Session (TROY-ID NUMBER)"
   ]
  },
  {
   "cell_type": "code",
   "execution_count": null,
   "id": "3da5b2e3",
   "metadata": {},
   "outputs": [],
   "source": [
    "\"\"\"\n",
    "Commentarty Section (Necessary)\n",
    "\n",
    "Provide a brief commentary describing what your code is intended to implement. Focus on the main logic or algorithm behind it. You may include a high-level overview or pseudocode to outline the steps. This helps clarify your thought process before writing the actual code.\n",
    "\n",
    "Example:\n",
    "\n",
    "    This function sorts a list using the Bubble Sort algorithm. It repeatedly steps through the list, compares adjacent items, and swaps them if they’re in the wrong order.\n",
    "    \n",
    "    Pseudocode:\n",
    "    for i from 0 to n:\n",
    "        for j from 0 to n-i-1:\n",
    "            if arr[j] > arr[j+1]:\n",
    "                swap(arr[j], arr[j+1])\n",
    "\n",
    "\"\"\""
   ]
  },
  {
   "cell_type": "markdown",
   "id": "fa95da74",
   "metadata": {},
   "source": [
    "## Dat's Session (1677589)"
   ]
  },
  {
   "cell_type": "code",
   "execution_count": null,
   "id": "5b368d24",
   "metadata": {},
   "outputs": [],
   "source": [
    "\"\"\"\n",
    "Commentarty Section (Necessary)\n",
    "\n",
    "# My Final Target - Implement the K-Item Set generation step in Apripory Algorithm\n",
    "\n",
    "=> Additional Constrain: the size: within a plausible size (no clear-definition)\n",
    "-> the values of support -> Using Absolute Support as input\n",
    "-> the minimum-support range [3,10] for the dataset\n",
    "\n",
    "\n",
    "1. Conventional K-Item Set generation: (Mentioned in the course)\n",
    "\n",
    "    L = []\n",
    "    Define the target the size you want to generate: N\n",
    "    Define the minimum abs support k\n",
    "    For i = 1, i < N , i ++:\n",
    "        Build the mapping (M) contain item-set with size i:\n",
    "        if i == 1:\n",
    "            \n",
    "            For all record in transaction tables:\n",
    "                For items in Transaction:\n",
    "                    if item in M:\n",
    "                        M[item] += 1\n",
    "            Build the mapping L1\n",
    "            For all item in M:\n",
    "                if M[item] >= k :\n",
    "                    L1[item] = M[item]\n",
    "\n",
    "            L.append(L1)\n",
    "            \n",
    "        else:\n",
    "            Build the mapping (M) contain item-set with size i:\n",
    "            C_k = candidate_gen(L[i-2]) # Generating all candidate with size i > 1 (generating i - 1 items sets)\n",
    "\n",
    "            For all record in transaction tables:\n",
    "                For candidate in C_k:\n",
    "                    if candidate is subset of record:\n",
    "                        M[candidate] += 1\n",
    "            Build the mapping Lk\n",
    "            For all candidate in M:\n",
    "                if M[candidate] >= k:\n",
    "                    Lk[candidate] = M[candidate]\n",
    "            \n",
    "            If (Len(Lk) <=1):\n",
    "                break\n",
    "        \n",
    "            L.append(Lk)\n",
    "    return L\n",
    "\n",
    "    Given: \n",
    "    candidate_gen(L_prev):\n",
    "        Ck = []\n",
    "\n",
    "        // L_prev -> a list of (k-1)- itemset\n",
    "        for each pair (A,B) in L_prev:\n",
    "            if A and B share the 1st (k-2) items:\n",
    "                C = A U B\n",
    "                all_sub_frequent = True\n",
    "                for subset in combination(C):  // check all (k-1)-subsets made from C  \n",
    "                    if subset not in L_prev:\n",
    "                        all_sub_frequent = False\n",
    "                        break\n",
    "                if all_sub_frequent:\n",
    "                    Ck.append(C)\n",
    "\n",
    "\n",
    "\n",
    "\n",
    "\n",
    "\"\"\""
   ]
  },
  {
   "cell_type": "code",
   "execution_count": null,
   "id": "8fcfeb1a",
   "metadata": {},
   "outputs": [],
   "source": [
    "\"\"\"\n",
    "2. Improved Version based-on (Al-Maolegi & Arkok, 2014) [https://arxiv.org/pdf/1403.3948]\n",
    "\n",
    "    Input:\n",
    "            T: List of transactions\n",
    "            min_sup: Minimum support threshold\n",
    "\n",
    "    Output:\n",
    "            All frequent itemsets (Answer)\n",
    "\n",
    "    Answer = []\n",
    "\n",
    "    L1 = find the frequent set of items with size 1 base on Transaction Table T\n",
    "    Answer.append(L1)\n",
    "\n",
    "    Define Lk the itemset with size k\n",
    "    Lk-1 = L1\n",
    "    For k = 2, Lk-1 != null ; k++:\n",
    "        # Possible Candidate with size k & their posisble Support values\n",
    "        Ck = generate_candidates(Lk-1) \n",
    "        \n",
    "        For candidate in Ck:\n",
    "            min_item = find item with min support in candidate based on L1\n",
    "\n",
    "            // get transaction that contain min_item (stored in memory)\n",
    "            relevant_transactions = get_transaction(min_item, L1)\n",
    "            \n",
    "            for t in relevant_transactions:\n",
    "                include_in_t = True\n",
    "                for element in candidate:\n",
    "                    if element not in t:\n",
    "                        include_in_t = False\n",
    "                if include_in_t = True:\n",
    "                    Support(Ck)+=1\n",
    "        Lk = filter_candidate_by_support(Ck, min_support)\n",
    "        Answer.append(Lk)\n",
    "        Lk_minus_1 = Lk\n",
    "\n",
    "    return Answer\n",
    "\n",
    "\"\"\""
   ]
  },
  {
   "cell_type": "code",
   "execution_count": null,
   "id": "40ed801e",
   "metadata": {},
   "outputs": [],
   "source": [
    "\"\"\"\n",
    "\n",
    "3. Improved Version in building the Item-Sets based-on (Lang, 2018) [https://doi.org/10.1063/1.5033777]\n",
    "    Input:\n",
    "        T: list of transactions\n",
    "        min_sup: minimum support threshold (as percentage)\n",
    "\n",
    "    Output:\n",
    "        All frequent itemsets\n",
    "\n",
    "    Procedure:\n",
    "\n",
    "        1. // Step 1: Create Boolean matrix S from transaction database\n",
    "        S = boolean_matrix(T)  // rows = transactions, columns = items\n",
    "\n",
    "        2. // Step 2: Calculate support count for each item (column sum)\n",
    "        For each item j in S:\n",
    "            support[j] = sum(S[:, j])\n",
    "        Prune items with support < min_sup_count → generate L'1\n",
    "\n",
    "        3. // Step 3: Calculate item weight\n",
    "        For each item j:\n",
    "            P[j] = 1 / (support[j] / N)\n",
    "\n",
    "        4. // Step 4: Calculate transaction weight\n",
    "        For each transaction i:\n",
    "            PT[i] = average(P[j]) for all items j in T[i]\n",
    "\n",
    "        5. // Step 5: Calculate weighted support of each item\n",
    "        For each item j:\n",
    "            PS[j] = sum of PT[i] where item j ∈ T[i] / sum of all PT\n",
    "        Prune items with PS < min_sup → generate L1\n",
    "\n",
    "        6. // Step 6: Generate candidate 2-itemsets C2 via self-join of L1\n",
    "        For each pair (i, j) in L1:\n",
    "            TID[i ∩ j] = AND(S[:, i], S[:, j])\n",
    "            count[i,j] = sum(TID[i ∩ j])\n",
    "            PS[i,j] = sum(PT[i]) / total PT\n",
    "\n",
    "        Generate L'2 (by count), L2 (by PS)\n",
    "        Prune: L2_final = L'2 ∩ L2\n",
    "\n",
    "        7. // Step 7: Repeat for k-itemsets (k ≥ 3)\n",
    "        While Lk is not empty:\n",
    "            Ck+1 = self-join(Lk)\n",
    "            For each candidate c in Ck+1:\n",
    "                Perform AND over all columns in c in S → count support\n",
    "                Calculate PS(c)\n",
    "            Generate L'k+1 and Lk+1\n",
    "            Prune: L_final = L'k+1 ∩ Lk+1\n",
    "\n",
    "        8. Stop when no new candidates can be generated\n",
    "        Return all frequent itemsets\n",
    "\n",
    "\"\"\""
   ]
  },
  {
   "cell_type": "code",
   "execution_count": null,
   "id": "78f09e0d",
   "metadata": {},
   "outputs": [],
   "source": [
    "\"\"\"\n",
    "\n",
    "4. Improved Version in building Item-Sets based-on (Yuan, 2017) [https://doi.org/10.1063/1.4977361]\n",
    "\n",
    "    -> The enhancement of this -> storing the TID by using compacted vector structure\n",
    "    -> Storing the occurence of object using bit-str values \n",
    "    Input:\n",
    "        T: List of transactions\n",
    "        min_sup: Minimum support threshold\n",
    "\n",
    "    Output:\n",
    "        All frequent itemsets (Answer)\n",
    "\n",
    "    Procedure:\n",
    "\n",
    "    1. // Step 1: Generate frequent 1-itemsets with transaction IDs\n",
    "    L1 = find_frequent_1_itemsets(T)\n",
    "\n",
    "    2. // Step 2: Generate candidate 2-itemsets using self-join\n",
    "    C2 = join_pairs(L1)\n",
    "    L2 = { c in C2 | support(c) ≥ min_sup }\n",
    "\n",
    "    3. Initialize:\n",
    "    Answer = L1 ∪ L2\n",
    "    k = 3\n",
    "\n",
    "    4. // Step 3: Iteratively generate Lk\n",
    "    While L(k-1) is not empty:\n",
    "    \n",
    "        // 3.1: Prune infrequent items from L(k-1)\n",
    "        L(k-1) = Prune(L(k-1))\n",
    "\n",
    "        Ck = ∅\n",
    "        \n",
    "        // 3.2: Generate candidate k-itemsets from L(k-1)\n",
    "        For each pair (Lx, Ly) in L(k-1):\n",
    "            If first (k−2) items in Lx and Ly are equal AND Lx[k−1] < Ly[k−1]:\n",
    "                c = union(Lx, Ly)\n",
    "\n",
    "                // Ensure all (k−1)-subsets of c exist in L(k-1)\n",
    "                If any (k−1)-subset of c is not in L(k-1):\n",
    "                    skip this candidate\n",
    "                Else:\n",
    "                    add c to Ck\n",
    "\n",
    "        // 3.3: Count support using TID set intersection\n",
    "        Lk = []\n",
    "        For each candidate c in Ck:\n",
    "            c.TIDs = intersection of TID sets from subsets of c\n",
    "            c.support = size of c.TIDs\n",
    "\n",
    "            If c.support ≥ min_sup:\n",
    "                Lk.append(c)\n",
    "\n",
    "        // 3.4: Final pruning of Lk\n",
    "        For each itemset Lj in Lk:\n",
    "            If count of items from L1 in Lj < k:\n",
    "                remove Lj from Lk\n",
    "\n",
    "        Answer = Answer ∪ Lk\n",
    "        k = k + 1\n",
    "\n",
    "    5. Return Answer\n",
    "\n",
    "\n",
    "\n",
    "\n",
    "\"\"\""
   ]
  },
  {
   "cell_type": "code",
   "execution_count": null,
   "id": "ce8457fa",
   "metadata": {},
   "outputs": [],
   "source": [
    "import pandas as pd \n",
    "# Storing for fast backup\n",
    "cleaned_df.to_csv(\"backup_checkpoint.csv\")\n"
   ]
  }
 ],
 "metadata": {
  "kernelspec": {
   "display_name": "base",
   "language": "python",
   "name": "python3"
  },
  "language_info": {
   "codemirror_mode": {
    "name": "ipython",
    "version": 3
   },
   "file_extension": ".py",
   "mimetype": "text/x-python",
   "name": "python",
   "nbconvert_exporter": "python",
   "pygments_lexer": "ipython3",
   "version": "3.12.2"
  }
 },
 "nbformat": 4,
 "nbformat_minor": 5
}
