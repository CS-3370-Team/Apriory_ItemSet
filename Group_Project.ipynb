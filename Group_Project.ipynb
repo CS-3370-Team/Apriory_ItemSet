{
 "cells": [
  {
   "cell_type": "markdown",
   "id": "a15e59e0",
   "metadata": {},
   "source": [
    "# Data-Clean (Cuong's Session)"
   ]
  },
  {
   "cell_type": "markdown",
   "id": "4cfc0150",
   "metadata": {},
   "source": [
    "## Import CSV file "
   ]
  },
  {
   "cell_type": "code",
   "execution_count": 1,
   "id": "1ace7e25",
   "metadata": {},
   "outputs": [
    {
     "name": "stdout",
     "output_type": "stream",
     "text": [
      "36881\n",
      "<bound method NDFrame.head of          0     1     2     3      4      5      6      7      8     9   ...  \\\n",
      "0        39    48   130   147    475   2998   4792   5478   7146  7160  ...   \n",
      "1        32    48   NaN   NaN    NaN    NaN    NaN    NaN    NaN   NaN  ...   \n",
      "2        48    79   232   340    396    649    911   1016   1020  1172  ...   \n",
      "3        32    48    65   130    772    816   1344   3220   4445  6536  ...   \n",
      "4        39   175   421   806   1025   1629   2424   3151    NaN   NaN  ...   \n",
      "...     ...   ...   ...   ...    ...    ...    ...    ...    ...   ...  ...   \n",
      "36876    39   875  2665  2962  12959  14070  14406  15518  16379   NaN  ...   \n",
      "36877    39    41   101   346    393    413    479    522    586   635  ...   \n",
      "36878  2310  4267   NaN   NaN    NaN    NaN    NaN    NaN    NaN   NaN  ...   \n",
      "36879    39    48  2528   NaN    NaN    NaN    NaN    NaN    NaN   NaN  ...   \n",
      "36880    32    39   205   242   1393    NaN    NaN    NaN    NaN   NaN  ...   \n",
      "\n",
      "        66   67   68   69   70   71   72   73   74   75  \n",
      "0      NaN  NaN  NaN  NaN  NaN  NaN  NaN  NaN  NaN  NaN  \n",
      "1      NaN  NaN  NaN  NaN  NaN  NaN  NaN  NaN  NaN  NaN  \n",
      "2      NaN  NaN  NaN  NaN  NaN  NaN  NaN  NaN  NaN  NaN  \n",
      "3      NaN  NaN  NaN  NaN  NaN  NaN  NaN  NaN  NaN  NaN  \n",
      "4      NaN  NaN  NaN  NaN  NaN  NaN  NaN  NaN  NaN  NaN  \n",
      "...    ...  ...  ...  ...  ...  ...  ...  ...  ...  ...  \n",
      "36876  NaN  NaN  NaN  NaN  NaN  NaN  NaN  NaN  NaN  NaN  \n",
      "36877  NaN  NaN  NaN  NaN  NaN  NaN  NaN  NaN  NaN  NaN  \n",
      "36878  NaN  NaN  NaN  NaN  NaN  NaN  NaN  NaN  NaN  NaN  \n",
      "36879  NaN  NaN  NaN  NaN  NaN  NaN  NaN  NaN  NaN  NaN  \n",
      "36880  NaN  NaN  NaN  NaN  NaN  NaN  NaN  NaN  NaN  NaN  \n",
      "\n",
      "[36881 rows x 76 columns]>\n"
     ]
    }
   ],
   "source": [
    "import pandas as pd\n",
    "import numpy as np\n",
    "import math\n",
    "\n",
    "test_pd = pd.read_csv('SuperCenterDataNew.csv', header=None, dtype=str)\n",
    "# add dtype to prevent float\n",
    "test_pd.head()\n",
    "print(len(test_pd))\n",
    "print (test_pd.head)"
   ]
  },
  {
   "cell_type": "markdown",
   "id": "047e3a55",
   "metadata": {},
   "source": [
    "## check whether the dataframe has empty rows or not "
   ]
  },
  {
   "cell_type": "code",
   "execution_count": 2,
   "id": "36157ca5-d99a-4092-b680-a06b36ae6dfe",
   "metadata": {},
   "outputs": [
    {
     "name": "stdout",
     "output_type": "stream",
     "text": [
      "✅ No empty lines.\n"
     ]
    },
    {
     "data": {
      "text/html": [
       "<div>\n",
       "<style scoped>\n",
       "    .dataframe tbody tr th:only-of-type {\n",
       "        vertical-align: middle;\n",
       "    }\n",
       "\n",
       "    .dataframe tbody tr th {\n",
       "        vertical-align: top;\n",
       "    }\n",
       "\n",
       "    .dataframe thead th {\n",
       "        text-align: right;\n",
       "    }\n",
       "</style>\n",
       "<table border=\"1\" class=\"dataframe\">\n",
       "  <thead>\n",
       "    <tr style=\"text-align: right;\">\n",
       "      <th></th>\n",
       "      <th>0</th>\n",
       "      <th>1</th>\n",
       "      <th>2</th>\n",
       "      <th>3</th>\n",
       "      <th>4</th>\n",
       "      <th>5</th>\n",
       "      <th>6</th>\n",
       "      <th>7</th>\n",
       "      <th>8</th>\n",
       "      <th>9</th>\n",
       "      <th>...</th>\n",
       "      <th>66</th>\n",
       "      <th>67</th>\n",
       "      <th>68</th>\n",
       "      <th>69</th>\n",
       "      <th>70</th>\n",
       "      <th>71</th>\n",
       "      <th>72</th>\n",
       "      <th>73</th>\n",
       "      <th>74</th>\n",
       "      <th>75</th>\n",
       "    </tr>\n",
       "  </thead>\n",
       "  <tbody>\n",
       "  </tbody>\n",
       "</table>\n",
       "<p>0 rows × 76 columns</p>\n",
       "</div>"
      ],
      "text/plain": [
       "Empty DataFrame\n",
       "Columns: [0, 1, 2, 3, 4, 5, 6, 7, 8, 9, 10, 11, 12, 13, 14, 15, 16, 17, 18, 19, 20, 21, 22, 23, 24, 25, 26, 27, 28, 29, 30, 31, 32, 33, 34, 35, 36, 37, 38, 39, 40, 41, 42, 43, 44, 45, 46, 47, 48, 49, 50, 51, 52, 53, 54, 55, 56, 57, 58, 59, 60, 61, 62, 63, 64, 65, 66, 67, 68, 69, 70, 71, 72, 73, 74, 75]\n",
       "Index: []\n",
       "\n",
       "[0 rows x 76 columns]"
      ]
     },
     "execution_count": 2,
     "metadata": {},
     "output_type": "execute_result"
    }
   ],
   "source": [
    "def check_blank_rows(df):\n",
    "    # find rows that all cells are empty or Nan\n",
    "    blank_rows = df[df.apply(lambda row: row.isnull().all() or (row.astype(str).str.strip() == '').all(), axis=1)]\n",
    "    \n",
    "    if blank_rows.empty:\n",
    "        print(\"✅ No empty lines.\")\n",
    "    else:\n",
    "        print(f\"⚠️ Found {len(blank_rows)} empty rows\")\n",
    "        print(blank_rows)\n",
    "\n",
    "    return blank_rows\n",
    "\n",
    "check_blank_rows(test_pd)"
   ]
  },
  {
   "cell_type": "markdown",
   "id": "3a09e4db",
   "metadata": {},
   "source": [
    "## Change the format of dataset from pandas.dataframe to pandas.Series"
   ]
  },
  {
   "cell_type": "code",
   "execution_count": 3,
   "id": "6ee49d94",
   "metadata": {},
   "outputs": [
    {
     "name": "stdout",
     "output_type": "stream",
     "text": [
      "0        [39, 48, 130, 147, 475, 2998, 4792, 5478, 7146...\n",
      "1                                                 [32, 48]\n",
      "2        [48, 79, 232, 340, 396, 649, 911, 1016, 1020, ...\n",
      "3        [32, 48, 65, 130, 772, 816, 1344, 3220, 4445, ...\n",
      "4              [39, 175, 421, 806, 1025, 1629, 2424, 3151]\n",
      "                               ...                        \n",
      "36876    [39, 875, 2665, 2962, 12959, 14070, 14406, 155...\n",
      "36877    [39, 41, 101, 346, 393, 413, 479, 522, 586, 63...\n",
      "36878                                         [2310, 4267]\n",
      "36879                                       [39, 48, 2528]\n",
      "36880                             [32, 39, 205, 242, 1393]\n",
      "Length: 36881, dtype: object\n",
      "<class 'pandas.core.series.Series'>\n"
     ]
    }
   ],
   "source": [
    "def is_not_nan(x):\n",
    "    return x is not None and not (isinstance(x, float) and math.isnan(x))\n",
    "\n",
    "def merge_and_clean(df):\n",
    "    # Combine all the value into list, remove NaN cells\n",
    "    def row_to_clean_list(row):\n",
    "        # row là 1 Series\n",
    "        items = []\n",
    "        for cell in row:\n",
    "            if isinstance(cell, list):\n",
    "                items.extend([v for v in cell if is_not_nan(v)])\n",
    "            elif is_not_nan(cell):\n",
    "                items.append(int(cell))\n",
    "        return items\n",
    "\n",
    "    # Apply for each line\n",
    "    return df.apply(row_to_clean_list, axis=1)\n",
    "\n",
    "cleaned = merge_and_clean(test_pd)\n",
    "\n",
    "# Print result\n",
    "print(cleaned)\n",
    "print(type(cleaned))"
   ]
  },
  {
   "cell_type": "code",
   "execution_count": 5,
   "id": "bdb182f4",
   "metadata": {},
   "outputs": [
    {
     "name": "stdout",
     "output_type": "stream",
     "text": [
      "✅ All elements are lists with integer particles\n"
     ]
    },
    {
     "data": {
      "text/plain": [
       "Series([], dtype: object)"
      ]
     },
     "execution_count": 5,
     "metadata": {},
     "output_type": "execute_result"
    }
   ],
   "source": [
    "def check_all_integers_series(series):\n",
    "    # function to test integer in the list\n",
    "    def is_all_int(item_list):\n",
    "        if not isinstance(item_list, list):\n",
    "            return False\n",
    "        return all(isinstance(x, int) for x in item_list)\n",
    "\n",
    "    # apply test\n",
    "    invalid_rows = series[~series.apply(is_all_int)]\n",
    "\n",
    "    if invalid_rows.empty:\n",
    "        print(\"✅ All elements are lists with integer particles\")\n",
    "    else:\n",
    "        print(f\"⚠️ Found {len(invalid_rows)} invalid particles\")\n",
    "        print(invalid_rows)\n",
    "\n",
    "    return invalid_rows\n",
    "\n",
    "check_all_integers_series(cleaned)"
   ]
  },
  {
   "cell_type": "markdown",
   "id": "4c4341c4",
   "metadata": {},
   "source": [
    "### Check duplicate particles in the list of each cart "
   ]
  },
  {
   "cell_type": "code",
   "execution_count": 6,
   "id": "da43a5d4",
   "metadata": {},
   "outputs": [
    {
     "name": "stdout",
     "output_type": "stream",
     "text": [
      "✅ No duplicated row found.\n"
     ]
    },
    {
     "data": {
      "text/plain": [
       "Series([], dtype: object)"
      ]
     },
     "execution_count": 6,
     "metadata": {},
     "output_type": "execute_result"
    }
   ],
   "source": [
    "def check_duplicate_elements_in_series(series):\n",
    "    # Return True if the list : lst contain duplication\n",
    "    def has_duplicates(lst):\n",
    "        if not isinstance(lst, list):\n",
    "            return False\n",
    "        return len(lst) != len(set(lst))  # If exist duplication: len(set()) < len(lst)\n",
    "\n",
    "    # Apply the check for each row\n",
    "    duplicated_rows = series[series.apply(has_duplicates)]\n",
    "\n",
    "    if duplicated_rows.empty:\n",
    "        print(\"✅ No duplicated row found.\")\n",
    "    else:\n",
    "        print(f\"⚠️ Found {len(duplicated_rows)} list exist duplication:\")\n",
    "        print(duplicated_rows)\n",
    "\n",
    "    return duplicated_rows\n",
    "\n",
    "\n",
    "check_duplicate_elements_in_series(cleaned)"
   ]
  },
  {
   "cell_type": "markdown",
   "id": "5822dea2",
   "metadata": {},
   "source": [
    "## Function to check distribution (existence of item in each cart)"
   ]
  },
  {
   "cell_type": "code",
   "execution_count": 7,
   "id": "03a6986a",
   "metadata": {},
   "outputs": [
    {
     "name": "stdout",
     "output_type": "stream",
     "text": [
      "39       21381\n",
      "48       17930\n",
      "38        6495\n",
      "32        6267\n",
      "41        4391\n",
      "         ...  \n",
      "15753        1\n",
      "14512        1\n",
      "6240         1\n",
      "4533         1\n",
      "16469        1\n",
      "Name: count, Length: 11799, dtype: int64\n"
     ]
    }
   ],
   "source": [
    "distribution = cleaned.explode().value_counts()\n",
    "\n",
    "print(distribution)\n",
    "top_100 = distribution.head(100)"
   ]
  },
  {
   "cell_type": "code",
   "execution_count": 8,
   "id": "951413fd",
   "metadata": {},
   "outputs": [
    {
     "data": {
      "image/png": "[encoded data removed]",
      "text/plain": [
       "<Figure size 1500x600 with 1 Axes>"
      ]
     },
     "metadata": {},
     "output_type": "display_data"
    }
   ],
   "source": [
    "import matplotlib.pyplot as plt\n",
    "import seaborn as sns\n",
    "\n",
    "plt.figure(figsize=(15, 6))\n",
    "sns.barplot(x=top_100.index, y=top_100.values, color='skyblue')\n",
    "\n",
    "plt.title('Top 100 Most Frequent Items')\n",
    "plt.xlabel('Item')\n",
    "plt.ylabel('Frequency')\n",
    "plt.xticks(rotation=90)\n",
    "\n",
    "plt.tight_layout()\n",
    "plt.show()"
   ]
  },
  {
   "cell_type": "code",
   "execution_count": 30,
   "id": "3a0e921d-73dc-4f45-aa49-03efc08fd04c",
   "metadata": {},
   "outputs": [
    {
     "name": "stdout",
     "output_type": "stream",
     "text": [
      "0        [39, 48, 130, 147, 475, 2998, 4792, 5478, 7146...\n",
      "1                                                 [32, 48]\n",
      "2        [48, 79, 232, 340, 396, 649, 911, 1016, 1020, ...\n",
      "3        [32, 48, 65, 130, 772, 816, 1344, 3220, 4445, ...\n",
      "4              [39, 175, 421, 806, 1025, 1629, 2424, 3151]\n",
      "                               ...                        \n",
      "36876    [39, 875, 2665, 2962, 12959, 14070, 14406, 155...\n",
      "36877    [39, 41, 101, 346, 393, 413, 479, 522, 586, 63...\n",
      "36878                                         [2310, 4267]\n",
      "36879                                       [39, 48, 2528]\n",
      "36880                             [32, 39, 205, 242, 1393]\n",
      "Length: 36881, dtype: object\n"
     ]
    },
    {
     "data": {
      "text/html": [
       "<div>\n",
       "<style scoped>\n",
       "    .dataframe tbody tr th:only-of-type {\n",
       "        vertical-align: middle;\n",
       "    }\n",
       "\n",
       "    .dataframe tbody tr th {\n",
       "        vertical-align: top;\n",
       "    }\n",
       "\n",
       "    .dataframe thead th {\n",
       "        text-align: right;\n",
       "    }\n",
       "</style>\n",
       "<table border=\"1\" class=\"dataframe\">\n",
       "  <thead>\n",
       "    <tr style=\"text-align: right;\">\n",
       "      <th></th>\n",
       "      <th>transaction_id</th>\n",
       "      <th>item</th>\n",
       "    </tr>\n",
       "  </thead>\n",
       "  <tbody>\n",
       "    <tr>\n",
       "      <th>0</th>\n",
       "      <td>0</td>\n",
       "      <td>[39, 48, 130, 147, 475, 2998, 4792, 5478, 7146...</td>\n",
       "    </tr>\n",
       "    <tr>\n",
       "      <th>1</th>\n",
       "      <td>1</td>\n",
       "      <td>[32, 48]</td>\n",
       "    </tr>\n",
       "    <tr>\n",
       "      <th>2</th>\n",
       "      <td>2</td>\n",
       "      <td>[48, 79, 232, 340, 396, 649, 911, 1016, 1020, ...</td>\n",
       "    </tr>\n",
       "    <tr>\n",
       "      <th>3</th>\n",
       "      <td>3</td>\n",
       "      <td>[32, 48, 65, 130, 772, 816, 1344, 3220, 4445, ...</td>\n",
       "    </tr>\n",
       "    <tr>\n",
       "      <th>4</th>\n",
       "      <td>4</td>\n",
       "      <td>[39, 175, 421, 806, 1025, 1629, 2424, 3151]</td>\n",
       "    </tr>\n",
       "    <tr>\n",
       "      <th>...</th>\n",
       "      <td>...</td>\n",
       "      <td>...</td>\n",
       "    </tr>\n",
       "    <tr>\n",
       "      <th>36876</th>\n",
       "      <td>36876</td>\n",
       "      <td>[39, 875, 2665, 2962, 12959, 14070, 14406, 155...</td>\n",
       "    </tr>\n",
       "    <tr>\n",
       "      <th>36877</th>\n",
       "      <td>36877</td>\n",
       "      <td>[39, 41, 101, 346, 393, 413, 479, 522, 586, 63...</td>\n",
       "    </tr>\n",
       "    <tr>\n",
       "      <th>36878</th>\n",
       "      <td>36878</td>\n",
       "      <td>[2310, 4267]</td>\n",
       "    </tr>\n",
       "    <tr>\n",
       "      <th>36879</th>\n",
       "      <td>36879</td>\n",
       "      <td>[39, 48, 2528]</td>\n",
       "    </tr>\n",
       "    <tr>\n",
       "      <th>36880</th>\n",
       "      <td>36880</td>\n",
       "      <td>[32, 39, 205, 242, 1393]</td>\n",
       "    </tr>\n",
       "  </tbody>\n",
       "</table>\n",
       "<p>36881 rows × 2 columns</p>\n",
       "</div>"
      ],
      "text/plain": [
       "       transaction_id                                               item\n",
       "0                   0  [39, 48, 130, 147, 475, 2998, 4792, 5478, 7146...\n",
       "1                   1                                           [32, 48]\n",
       "2                   2  [48, 79, 232, 340, 396, 649, 911, 1016, 1020, ...\n",
       "3                   3  [32, 48, 65, 130, 772, 816, 1344, 3220, 4445, ...\n",
       "4                   4        [39, 175, 421, 806, 1025, 1629, 2424, 3151]\n",
       "...               ...                                                ...\n",
       "36876           36876  [39, 875, 2665, 2962, 12959, 14070, 14406, 155...\n",
       "36877           36877  [39, 41, 101, 346, 393, 413, 479, 522, 586, 63...\n",
       "36878           36878                                       [2310, 4267]\n",
       "36879           36879                                     [39, 48, 2528]\n",
       "36880           36880                           [32, 39, 205, 242, 1393]\n",
       "\n",
       "[36881 rows x 2 columns]"
      ]
     },
     "execution_count": 30,
     "metadata": {},
     "output_type": "execute_result"
    }
   ],
   "source": [
    "import pandas as pd\n",
    "print(cleaned)\n",
    "cleaned_df = pd.DataFrame({'transaction_id': cleaned.index, \n",
    "                          'item': cleaned.values}) # Convert the data cleaned from Series -> familiar pandas format\n",
    "cleaned_df\n"
   ]
  },
  {
   "cell_type": "markdown",
   "id": "46c7230a",
   "metadata": {},
   "source": [
    "# Apriori's Algorithm Implementation\n",
    "- The Clean Data was storing in `cleaned_df` variable - it's better for you to have the back-up of stored cleaned csv file of this dataframe obj"
   ]
  },
  {
   "cell_type": "markdown",
   "id": "ccbde813",
   "metadata": {},
   "source": [
    "## Cuong's Session (TROY-ID NUMBER)"
   ]
  },
  {
   "cell_type": "code",
   "execution_count": null,
   "id": "ff2b7bca",
   "metadata": {},
   "outputs": [],
   "source": [
    "\"\"\"\n",
    "Commentarty Section (Necessary)\n",
    "\n",
    "Provide a brief commentary describing what your code is intended to implement. Focus on the main logic or algorithm behind it. You may include a high-level overview or pseudocode to outline the steps. This helps clarify your thought process before writing the actual code.\n",
    "\n",
    "Example:\n",
    "\n",
    "    This function sorts a list using the Bubble Sort algorithm. It repeatedly steps through the list, compares adjacent items, and swaps them if they’re in the wrong order.\n",
    "    \n",
    "    Pseudocode:\n",
    "    for i from 0 to n:\n",
    "        for j from 0 to n-i-1:\n",
    "            if arr[j] > arr[j+1]:\n",
    "                swap(arr[j], arr[j+1])\n",
    "\n",
    "\"\"\""
   ]
  },
  {
   "cell_type": "markdown",
   "id": "ee77d230",
   "metadata": {},
   "source": [
    "## An's Session (TROY-ID NUMBER)"
   ]
  },
  {
   "cell_type": "code",
   "execution_count": null,
   "id": "45797b96",
   "metadata": {},
   "outputs": [],
   "source": [
    "\"\"\"\n",
    "Commentarty Section (Necessary)\n",
    "\n",
    "Provide a brief commentary describing what your code is intended to implement. Focus on the main logic or algorithm behind it. You may include a high-level overview or pseudocode to outline the steps. This helps clarify your thought process before writing the actual code.\n",
    "\n",
    "Example:\n",
    "\n",
    "    This function sorts a list using the Bubble Sort algorithm. It repeatedly steps through the list, compares adjacent items, and swaps them if they’re in the wrong order.\n",
    "    \n",
    "    Pseudocode:\n",
    "    for i from 0 to n:\n",
    "        for j from 0 to n-i-1:\n",
    "            if arr[j] > arr[j+1]:\n",
    "                swap(arr[j], arr[j+1])\n",
    "\n",
    "\"\"\""
   ]
  },
  {
   "cell_type": "markdown",
   "id": "08a0db20",
   "metadata": {},
   "source": [
    "## Dung's Session (TROY-ID NUMBER)"
   ]
  },
  {
   "cell_type": "code",
   "execution_count": null,
   "id": "3da5b2e3",
   "metadata": {},
   "outputs": [],
   "source": [
    "\"\"\"\n",
    "Commentarty Section (Necessary)\n",
    "\n",
    "Provide a brief commentary describing what your code is intended to implement. Focus on the main logic or algorithm behind it. You may include a high-level overview or pseudocode to outline the steps. This helps clarify your thought process before writing the actual code.\n",
    "\n",
    "Example:\n",
    "\n",
    "    This function sorts a list using the Bubble Sort algorithm. It repeatedly steps through the list, compares adjacent items, and swaps them if they’re in the wrong order.\n",
    "    \n",
    "    Pseudocode:\n",
    "    for i from 0 to n:\n",
    "        for j from 0 to n-i-1:\n",
    "            if arr[j] > arr[j+1]:\n",
    "                swap(arr[j], arr[j+1])\n",
    "\n",
    "\"\"\""
   ]
  },
  {
   "cell_type": "markdown",
   "id": "fa95da74",
   "metadata": {},
   "source": [
    "## Dat's Session (1677589)"
   ]
  },
  {
   "cell_type": "code",
   "execution_count": null,
   "id": "5b368d24",
   "metadata": {},
   "outputs": [],
   "source": [
    "\"\"\"\n",
    "Commentarty Section (Necessary)\n",
    "\n",
    "Provide a brief commentary describing what your code is intended to implement. Focus on the main logic or algorithm behind it. You may include a high-level overview or pseudocode to outline the steps. This helps clarify your thought process before writing the actual code.\n",
    "\n",
    "Example:\n",
    "\n",
    "    This function sorts a list using the Bubble Sort algorithm. It repeatedly steps through the list, compares adjacent items, and swaps them if they’re in the wrong order.\n",
    "    \n",
    "    Pseudocode:\n",
    "    for i from 0 to n:\n",
    "        for j from 0 to n-i-1:\n",
    "            if arr[j] > arr[j+1]:\n",
    "                swap(arr[j], arr[j+1])\n",
    "\n",
    "\"\"\""
   ]
  }
 ],
 "metadata": {
  "kernelspec": {
   "display_name": "base",
   "language": "python",
   "name": "python3"
  },
  "language_info": {
   "codemirror_mode": {
    "name": "ipython",
    "version": 3
   },
   "file_extension": ".py",
   "mimetype": "text/x-python",
   "name": "python",
   "nbconvert_exporter": "python",
   "pygments_lexer": "ipython3",
   "version": "3.12.2"
  }
 },
 "nbformat": 4,
 "nbformat_minor": 5
}
