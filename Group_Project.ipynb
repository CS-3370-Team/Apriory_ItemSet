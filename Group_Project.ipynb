{
 "cells": [
  {
   "cell_type": "markdown",
   "id": "4cfc0150",
   "metadata": {},
   "source": [
    "## Import CSV file "
   ]
  },
  {
   "cell_type": "code",
   "execution_count": 43,
   "id": "1ace7e25",
   "metadata": {},
   "outputs": [
    {
     "name": "stdout",
     "output_type": "stream",
     "text": [
      "36881\n",
      "<bound method NDFrame.head of          0     1     2     3      4      5      6      7      8     9   ...  \\\n",
      "0        39    48   130   147    475   2998   4792   5478   7146  7160  ...   \n",
      "1        32    48   NaN   NaN    NaN    NaN    NaN    NaN    NaN   NaN  ...   \n",
      "2        48    79   232   340    396    649    911   1016   1020  1172  ...   \n",
      "3        32    48    65   130    772    816   1344   3220   4445  6536  ...   \n",
      "4        39   175   421   806   1025   1629   2424   3151    NaN   NaN  ...   \n",
      "...     ...   ...   ...   ...    ...    ...    ...    ...    ...   ...  ...   \n",
      "36876    39   875  2665  2962  12959  14070  14406  15518  16379   NaN  ...   \n",
      "36877    39    41   101   346    393    413    479    522    586   635  ...   \n",
      "36878  2310  4267   NaN   NaN    NaN    NaN    NaN    NaN    NaN   NaN  ...   \n",
      "36879    39    48  2528   NaN    NaN    NaN    NaN    NaN    NaN   NaN  ...   \n",
      "36880    32    39   205   242   1393    NaN    NaN    NaN    NaN   NaN  ...   \n",
      "\n",
      "        66   67   68   69   70   71   72   73   74   75  \n",
      "0      NaN  NaN  NaN  NaN  NaN  NaN  NaN  NaN  NaN  NaN  \n",
      "1      NaN  NaN  NaN  NaN  NaN  NaN  NaN  NaN  NaN  NaN  \n",
      "2      NaN  NaN  NaN  NaN  NaN  NaN  NaN  NaN  NaN  NaN  \n",
      "3      NaN  NaN  NaN  NaN  NaN  NaN  NaN  NaN  NaN  NaN  \n",
      "4      NaN  NaN  NaN  NaN  NaN  NaN  NaN  NaN  NaN  NaN  \n",
      "...    ...  ...  ...  ...  ...  ...  ...  ...  ...  ...  \n",
      "36876  NaN  NaN  NaN  NaN  NaN  NaN  NaN  NaN  NaN  NaN  \n",
      "36877  NaN  NaN  NaN  NaN  NaN  NaN  NaN  NaN  NaN  NaN  \n",
      "36878  NaN  NaN  NaN  NaN  NaN  NaN  NaN  NaN  NaN  NaN  \n",
      "36879  NaN  NaN  NaN  NaN  NaN  NaN  NaN  NaN  NaN  NaN  \n",
      "36880  NaN  NaN  NaN  NaN  NaN  NaN  NaN  NaN  NaN  NaN  \n",
      "\n",
      "[36881 rows x 76 columns]>\n"
     ]
    }
   ],
   "source": [
    "import pandas as pd\n",
    "import numpy as np\n",
    "import math\n",
    "\n",
    "test_pd = pd.read_csv('SuperCenterDataNew.csv', header=None, dtype=str)\n",
    "# add dtype to prevent float\n",
    "test_pd.head()\n",
    "print(len(test_pd))\n",
    "print (test_pd.head)"
   ]
  },
  {
   "cell_type": "markdown",
   "id": "047e3a55",
   "metadata": {},
   "source": [
    "### check whether the dataframe has empty rows or not "
   ]
  },
  {
   "cell_type": "code",
   "execution_count": 51,
   "id": "36157ca5-d99a-4092-b680-a06b36ae6dfe",
   "metadata": {},
   "outputs": [
    {
     "name": "stdout",
     "output_type": "stream",
     "text": [
      "✅ No empty lines.\n"
     ]
    },
    {
     "data": {
      "application/vnd.microsoft.datawrangler.viewer.v0+json": {
       "columns": [
        {
         "name": "index",
         "rawType": "int64",
         "type": "integer"
        },
        {
         "name": "0",
         "rawType": "object",
         "type": "string"
        },
        {
         "name": "1",
         "rawType": "object",
         "type": "string"
        },
        {
         "name": "2",
         "rawType": "object",
         "type": "string"
        },
        {
         "name": "3",
         "rawType": "object",
         "type": "string"
        },
        {
         "name": "4",
         "rawType": "object",
         "type": "string"
        },
        {
         "name": "5",
         "rawType": "object",
         "type": "string"
        },
        {
         "name": "6",
         "rawType": "object",
         "type": "string"
        },
        {
         "name": "7",
         "rawType": "object",
         "type": "string"
        },
        {
         "name": "8",
         "rawType": "object",
         "type": "string"
        },
        {
         "name": "9",
         "rawType": "object",
         "type": "string"
        },
        {
         "name": "10",
         "rawType": "object",
         "type": "string"
        },
        {
         "name": "11",
         "rawType": "object",
         "type": "string"
        },
        {
         "name": "12",
         "rawType": "object",
         "type": "string"
        },
        {
         "name": "13",
         "rawType": "object",
         "type": "string"
        },
        {
         "name": "14",
         "rawType": "object",
         "type": "string"
        },
        {
         "name": "15",
         "rawType": "object",
         "type": "string"
        },
        {
         "name": "16",
         "rawType": "object",
         "type": "string"
        },
        {
         "name": "17",
         "rawType": "object",
         "type": "string"
        },
        {
         "name": "18",
         "rawType": "object",
         "type": "string"
        },
        {
         "name": "19",
         "rawType": "object",
         "type": "string"
        },
        {
         "name": "20",
         "rawType": "object",
         "type": "string"
        },
        {
         "name": "21",
         "rawType": "object",
         "type": "string"
        },
        {
         "name": "22",
         "rawType": "object",
         "type": "string"
        },
        {
         "name": "23",
         "rawType": "object",
         "type": "string"
        },
        {
         "name": "24",
         "rawType": "object",
         "type": "string"
        },
        {
         "name": "25",
         "rawType": "object",
         "type": "string"
        },
        {
         "name": "26",
         "rawType": "object",
         "type": "string"
        },
        {
         "name": "27",
         "rawType": "object",
         "type": "string"
        },
        {
         "name": "28",
         "rawType": "object",
         "type": "string"
        },
        {
         "name": "29",
         "rawType": "object",
         "type": "string"
        },
        {
         "name": "30",
         "rawType": "object",
         "type": "string"
        },
        {
         "name": "31",
         "rawType": "object",
         "type": "string"
        },
        {
         "name": "32",
         "rawType": "object",
         "type": "string"
        },
        {
         "name": "33",
         "rawType": "object",
         "type": "string"
        },
        {
         "name": "34",
         "rawType": "object",
         "type": "string"
        },
        {
         "name": "35",
         "rawType": "object",
         "type": "string"
        },
        {
         "name": "36",
         "rawType": "object",
         "type": "string"
        },
        {
         "name": "37",
         "rawType": "object",
         "type": "string"
        },
        {
         "name": "38",
         "rawType": "object",
         "type": "string"
        },
        {
         "name": "39",
         "rawType": "object",
         "type": "string"
        },
        {
         "name": "40",
         "rawType": "object",
         "type": "string"
        },
        {
         "name": "41",
         "rawType": "object",
         "type": "string"
        },
        {
         "name": "42",
         "rawType": "object",
         "type": "string"
        },
        {
         "name": "43",
         "rawType": "object",
         "type": "string"
        },
        {
         "name": "44",
         "rawType": "object",
         "type": "string"
        },
        {
         "name": "45",
         "rawType": "object",
         "type": "string"
        },
        {
         "name": "46",
         "rawType": "object",
         "type": "string"
        },
        {
         "name": "47",
         "rawType": "object",
         "type": "string"
        },
        {
         "name": "48",
         "rawType": "object",
         "type": "string"
        },
        {
         "name": "49",
         "rawType": "object",
         "type": "string"
        },
        {
         "name": "50",
         "rawType": "object",
         "type": "string"
        },
        {
         "name": "51",
         "rawType": "object",
         "type": "string"
        },
        {
         "name": "52",
         "rawType": "object",
         "type": "string"
        },
        {
         "name": "53",
         "rawType": "object",
         "type": "string"
        },
        {
         "name": "54",
         "rawType": "object",
         "type": "string"
        },
        {
         "name": "55",
         "rawType": "object",
         "type": "string"
        },
        {
         "name": "56",
         "rawType": "object",
         "type": "string"
        },
        {
         "name": "57",
         "rawType": "object",
         "type": "string"
        },
        {
         "name": "58",
         "rawType": "object",
         "type": "string"
        },
        {
         "name": "59",
         "rawType": "object",
         "type": "string"
        },
        {
         "name": "60",
         "rawType": "object",
         "type": "string"
        },
        {
         "name": "61",
         "rawType": "object",
         "type": "string"
        },
        {
         "name": "62",
         "rawType": "object",
         "type": "string"
        },
        {
         "name": "63",
         "rawType": "object",
         "type": "string"
        },
        {
         "name": "64",
         "rawType": "object",
         "type": "string"
        },
        {
         "name": "65",
         "rawType": "object",
         "type": "string"
        },
        {
         "name": "66",
         "rawType": "object",
         "type": "string"
        },
        {
         "name": "67",
         "rawType": "object",
         "type": "string"
        },
        {
         "name": "68",
         "rawType": "object",
         "type": "string"
        },
        {
         "name": "69",
         "rawType": "object",
         "type": "string"
        },
        {
         "name": "70",
         "rawType": "object",
         "type": "string"
        },
        {
         "name": "71",
         "rawType": "object",
         "type": "string"
        },
        {
         "name": "72",
         "rawType": "object",
         "type": "string"
        },
        {
         "name": "73",
         "rawType": "object",
         "type": "string"
        },
        {
         "name": "74",
         "rawType": "object",
         "type": "string"
        },
        {
         "name": "75",
         "rawType": "object",
         "type": "string"
        }
       ],
       "ref": "949c31ea-8ebe-424f-9b13-a976b5e78045",
       "rows": [],
       "shape": {
        "columns": 76,
        "rows": 0
       }
      },
      "text/html": [
       "<div>\n",
       "<style scoped>\n",
       "    .dataframe tbody tr th:only-of-type {\n",
       "        vertical-align: middle;\n",
       "    }\n",
       "\n",
       "    .dataframe tbody tr th {\n",
       "        vertical-align: top;\n",
       "    }\n",
       "\n",
       "    .dataframe thead th {\n",
       "        text-align: right;\n",
       "    }\n",
       "</style>\n",
       "<table border=\"1\" class=\"dataframe\">\n",
       "  <thead>\n",
       "    <tr style=\"text-align: right;\">\n",
       "      <th></th>\n",
       "      <th>0</th>\n",
       "      <th>1</th>\n",
       "      <th>2</th>\n",
       "      <th>3</th>\n",
       "      <th>4</th>\n",
       "      <th>5</th>\n",
       "      <th>6</th>\n",
       "      <th>7</th>\n",
       "      <th>8</th>\n",
       "      <th>9</th>\n",
       "      <th>...</th>\n",
       "      <th>66</th>\n",
       "      <th>67</th>\n",
       "      <th>68</th>\n",
       "      <th>69</th>\n",
       "      <th>70</th>\n",
       "      <th>71</th>\n",
       "      <th>72</th>\n",
       "      <th>73</th>\n",
       "      <th>74</th>\n",
       "      <th>75</th>\n",
       "    </tr>\n",
       "  </thead>\n",
       "  <tbody>\n",
       "  </tbody>\n",
       "</table>\n",
       "<p>0 rows × 76 columns</p>\n",
       "</div>"
      ],
      "text/plain": [
       "Empty DataFrame\n",
       "Columns: [0, 1, 2, 3, 4, 5, 6, 7, 8, 9, 10, 11, 12, 13, 14, 15, 16, 17, 18, 19, 20, 21, 22, 23, 24, 25, 26, 27, 28, 29, 30, 31, 32, 33, 34, 35, 36, 37, 38, 39, 40, 41, 42, 43, 44, 45, 46, 47, 48, 49, 50, 51, 52, 53, 54, 55, 56, 57, 58, 59, 60, 61, 62, 63, 64, 65, 66, 67, 68, 69, 70, 71, 72, 73, 74, 75]\n",
       "Index: []\n",
       "\n",
       "[0 rows x 76 columns]"
      ]
     },
     "execution_count": 51,
     "metadata": {},
     "output_type": "execute_result"
    }
   ],
   "source": [
    "def check_blank_rows(df):\n",
    "    # find rows that all cells are empty or Nan\n",
    "    blank_rows = df[df.apply(lambda row: row.isnull().all() or (row.astype(str).str.strip() == '').all(), axis=1)]\n",
    "    \n",
    "    if blank_rows.empty:\n",
    "        print(\"✅ No empty lines.\")\n",
    "    else:\n",
    "        print(f\"⚠️ Found {len(blank_rows)} empty rows\")\n",
    "        print(blank_rows)\n",
    "\n",
    "    return blank_rows\n",
    "\n",
    "check_blank_rows(test_pd)"
   ]
  },
  {
   "cell_type": "markdown",
   "id": "3a09e4db",
   "metadata": {},
   "source": [
    "### change the format of dataset from pandas.dataframe to pandas.Series"
   ]
  },
  {
   "cell_type": "code",
   "execution_count": 52,
   "id": "6ee49d94",
   "metadata": {},
   "outputs": [
    {
     "name": "stdout",
     "output_type": "stream",
     "text": [
      "0        [39, 48, 130, 147, 475, 2998, 4792, 5478, 7146...\n",
      "1                                                 [32, 48]\n",
      "2        [48, 79, 232, 340, 396, 649, 911, 1016, 1020, ...\n",
      "3        [32, 48, 65, 130, 772, 816, 1344, 3220, 4445, ...\n",
      "4              [39, 175, 421, 806, 1025, 1629, 2424, 3151]\n",
      "                               ...                        \n",
      "36876    [39, 875, 2665, 2962, 12959, 14070, 14406, 155...\n",
      "36877    [39, 41, 101, 346, 393, 413, 479, 522, 586, 63...\n",
      "36878                                         [2310, 4267]\n",
      "36879                                       [39, 48, 2528]\n",
      "36880                             [32, 39, 205, 242, 1393]\n",
      "Length: 36881, dtype: object\n",
      "<class 'pandas.core.series.Series'>\n"
     ]
    }
   ],
   "source": [
    "def is_not_nan(x):\n",
    "    return x is not None and not (isinstance(x, float) and math.isnan(x))\n",
    "\n",
    "def merge_and_clean(df):\n",
    "    # Combine all the value into list, remove NaN cells\n",
    "    def row_to_clean_list(row):\n",
    "        # row là 1 Series\n",
    "        items = []\n",
    "        for cell in row:\n",
    "            if isinstance(cell, list):\n",
    "                items.extend([v for v in cell if is_not_nan(v)])\n",
    "            elif is_not_nan(cell):\n",
    "                items.append(int(cell))\n",
    "        return items\n",
    "\n",
    "    # Apply for each line\n",
    "    return df.apply(row_to_clean_list, axis=1)\n",
    "\n",
    "cleaned = merge_and_clean(test_pd)\n",
    "\n",
    "# Print result\n",
    "print(cleaned)\n",
    "print(type(cleaned))"
   ]
  },
  {
   "cell_type": "code",
   "execution_count": null,
   "id": "bdb182f4",
   "metadata": {},
   "outputs": [
    {
     "name": "stdout",
     "output_type": "stream",
     "text": [
      "✅ All elements are lists with integer particles\n"
     ]
    },
    {
     "data": {
      "application/vnd.microsoft.datawrangler.viewer.v0+json": {
       "columns": [
        {
         "name": "index",
         "rawType": "int64",
         "type": "integer"
        },
        {
         "name": "0",
         "rawType": "object",
         "type": "string"
        }
       ],
       "ref": "afbbc3be-886d-4916-a532-8461e0ca1684",
       "rows": [],
       "shape": {
        "columns": 1,
        "rows": 0
       }
      },
      "text/plain": [
       "Series([], dtype: object)"
      ]
     },
     "execution_count": 50,
     "metadata": {},
     "output_type": "execute_result"
    }
   ],
   "source": [
    "def check_all_integers_series(series):\n",
    "    # function to test integer in the list\n",
    "    def is_all_int(item_list):\n",
    "        if not isinstance(item_list, list):\n",
    "            return False\n",
    "        return all(isinstance(x, int) for x in item_list)\n",
    "\n",
    "    # apply test\n",
    "    invalid_rows = series[~series.apply(is_all_int)]\n",
    "\n",
    "    if invalid_rows.empty:\n",
    "        print(\"✅ All elements are lists with integer particles\")\n",
    "    else:\n",
    "        print(f\"⚠️ Found {len(invalid_rows)} invalid particles\")\n",
    "        print(invalid_rows)\n",
    "\n",
    "    return invalid_rows\n",
    "\n",
    "check_all_integers_series(cleaned)"
   ]
  },
  {
   "cell_type": "markdown",
   "id": "4c4341c4",
   "metadata": {},
   "source": [
    "### Check duplicate particles in the list of each cart "
   ]
  },
  {
   "cell_type": "code",
   "execution_count": 54,
   "id": "da43a5d4",
   "metadata": {},
   "outputs": [
    {
     "name": "stdout",
     "output_type": "stream",
     "text": [
      "✅ Không có list nào chứa phần tử lặp lại.\n"
     ]
    },
    {
     "data": {
      "application/vnd.microsoft.datawrangler.viewer.v0+json": {
       "columns": [
        {
         "name": "index",
         "rawType": "int64",
         "type": "integer"
        },
        {
         "name": "0",
         "rawType": "object",
         "type": "string"
        }
       ],
       "ref": "18d8f32a-4d80-4e9f-9787-f4ae819bc6f3",
       "rows": [],
       "shape": {
        "columns": 1,
        "rows": 0
       }
      },
      "text/plain": [
       "Series([], dtype: object)"
      ]
     },
     "execution_count": 54,
     "metadata": {},
     "output_type": "execute_result"
    }
   ],
   "source": [
    "def check_duplicate_elements_in_series(series):\n",
    "    # Trả về True nếu list có phần tử lặp lại\n",
    "    def has_duplicates(lst):\n",
    "        if not isinstance(lst, list):\n",
    "            return False\n",
    "        return len(lst) != len(set(lst))  # Nếu có phần tử trùng → set() nhỏ hơn list\n",
    "\n",
    "    # Áp dụng kiểm tra cho từng phần tử\n",
    "    duplicated_rows = series[series.apply(has_duplicates)]\n",
    "\n",
    "    if duplicated_rows.empty:\n",
    "        print(\"✅ Không có list nào chứa phần tử lặp lại.\")\n",
    "    else:\n",
    "        print(f\"⚠️ Tìm thấy {len(duplicated_rows)} list có phần tử lặp lại:\")\n",
    "        print(duplicated_rows)\n",
    "\n",
    "    return duplicated_rows\n",
    "\n",
    "\n",
    "check_duplicate_elements_in_series(cleaned)"
   ]
  },
  {
   "cell_type": "markdown",
   "id": "5822dea2",
   "metadata": {},
   "source": [
    "## Function to check distribution (existence of item in each cart)"
   ]
  },
  {
   "cell_type": "code",
   "execution_count": 59,
   "id": "03a6986a",
   "metadata": {},
   "outputs": [
    {
     "name": "stdout",
     "output_type": "stream",
     "text": [
      "39       21381\n",
      "48       17930\n",
      "38        6495\n",
      "32        6267\n",
      "41        4391\n",
      "         ...  \n",
      "15753        1\n",
      "14512        1\n",
      "6240         1\n",
      "4533         1\n",
      "16469        1\n",
      "Name: count, Length: 11799, dtype: int64\n"
     ]
    }
   ],
   "source": [
    "distribution = cleaned.explode().value_counts()\n",
    "\n",
    "print(distribution)\n",
    "top_100 = distribution.head(100)"
   ]
  },
  {
   "cell_type": "code",
   "execution_count": 60,
   "id": "951413fd",
   "metadata": {},
   "outputs": [
    {
     "data": {
      "image/png": "[encoded data removed]",
      "text/plain": [
       "<Figure size 1500x600 with 1 Axes>"
      ]
     },
     "metadata": {},
     "output_type": "display_data"
    }
   ],
   "source": [
    "import matplotlib.pyplot as plt\n",
    "import seaborn as sns\n",
    "\n",
    "plt.figure(figsize=(15, 6))\n",
    "sns.barplot(x=top_100.index, y=top_100.values, color='skyblue')\n",
    "\n",
    "plt.title('Top 100 Most Frequent Items')\n",
    "plt.xlabel('Item')\n",
    "plt.ylabel('Frequency')\n",
    "plt.xticks(rotation=90)\n",
    "\n",
    "plt.tight_layout()\n",
    "plt.show()"
   ]
  }
 ],
 "metadata": {
  "kernelspec": {
   "display_name": ".venv",
   "language": "python",
   "name": "python3"
  },
  "language_info": {
   "codemirror_mode": {
    "name": "ipython",
    "version": 3
   },
   "file_extension": ".py",
   "mimetype": "text/x-python",
   "name": "python",
   "nbconvert_exporter": "python",
   "pygments_lexer": "ipython3",
   "version": "3.13.2"
  }
 },
 "nbformat": 4,
 "nbformat_minor": 5
}
